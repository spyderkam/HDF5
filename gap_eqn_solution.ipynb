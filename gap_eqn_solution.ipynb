{
 "cells": [
  {
   "cell_type": "markdown",
   "metadata": {},
   "source": [
    "# <center> Finding a Solution to a Gap Equation </center>\n",
    "\n",
    "\n",
    "Equation $(1)$ is a Gap equation. To solve for $m$, I will start by parameterizing the integral:\n",
    "\n",
    "$$\n",
    "\\begin{align*}\n",
    "    m \\,&=\\, 1 - \\frac{6}{\\pi^2}m\\left(10\\sqrt{10^2 + m^2} - m^2\\ln{\\frac{10 + \\sqrt{10^2 + m^2}}{m}}\\right) + \\frac{12}{\\pi^2}m\\int_0^{10} dp\\,\\frac{p^2}{\\sqrt{p^2 + m^2}}\\left[ \\frac{1}{e^{\\left(\\sqrt{p^2 + m^2} +1\\right)} +1} + \\frac{1}{e^{\\left(\\sqrt{p^2 + m^2} - 1\\right)}+1} \\right]  \\tag{1} \\\\\n",
    "    %%%%%%%%%\n",
    "    &=\\, 1 - \\frac{6}{\\pi^2}m\\left(10\\sqrt{10^2 + m^2} - m^2\\ln{\\frac{10 + \\sqrt{10^2 + m^2}}{m}}\\right) + \\frac{12}{\\pi^2}m\\int_0^{10} I(p,m)\\,dp  \\tag{2} \\\\\n",
    "    %%%%%%%%%\n",
    "    &=\\, 1 - \\frac{6}{\\pi^2}m\\left(10\\sqrt{10^2 + m^2} - m^2\\ln{\\frac{10 + \\sqrt{10^2 + m^2}}{m}}\\right) + \\frac{12}{\\pi^2}mA(m)  \\tag{3}\n",
    "\\end{align*}\n",
    "$$\n",
    "\n",
    "<br>\n",
    "where $A(m) \\equiv \\int_0^{10} I(p,m)\\,dp$ and $I$ should be obvious. I start by substituting various discrete values for $m$ into $I(p,m)$ so that $A$ can be easily solvable; I then plot $A(m)$."
   ]
  },
  {
   "cell_type": "code",
   "execution_count": 1,
   "metadata": {},
   "outputs": [
    {
     "data": {
      "image/png": "[encoded data removed]",
      "text/plain": [
       "<Figure size 432x288 with 1 Axes>"
      ]
     },
     "metadata": {
      "needs_background": "light"
     },
     "output_type": "display_data"
    }
   ],
   "source": [
    "import numpy as np\n",
    "import matplotlib.pyplot as plt\n",
    "\n",
    "A0 = 2.143392921709955      # A(m = 0) = 2.143392921709955\n",
    "A1 = 1.49812910688557       # A(m = 1)\n",
    "A2 = 0.7827657896827992     # m = 2\n",
    "A3 = 0.3566181486331392 \n",
    "A4 = 0.1511082918556652\n",
    "A5 = 0.06158653500493273\n",
    "A6 = 0.02453761298497387\n",
    "A7 = 0.009631754308265933\n",
    "A8 = 0.003739759757292826\n",
    "A9 = 0.001439620578527362\n",
    "A10 = 0.0005502607603987723\n",
    "A11 = 0.0002090614014007566\n",
    "\n",
    "A_arr = np.array([A0, A1, A2, A3, A4, A5, A6, A7, A8, A9, A10, A11])\n",
    "m = np.array([0, 1, 2, 3, 4, 5, 6, 7, 8, 9, 10, 11])\n",
    "\n",
    "plt.plot(A_arr)\n",
    "plt.ylabel(\"$A(m)$\", fontsize=25)\n",
    "plt.xlabel(\"$m$\", fontsize=25)\n",
    "plt.show()"
   ]
  },
  {
   "cell_type": "markdown",
   "metadata": {},
   "source": [
    "The plot resembles an exponential decay; so, I will fit Equation $(4)$ to the graph of $A(m)$.\n",
    "\n",
    "$$ f(m) = \\alpha e^{-m/\\tau} + \\beta \\tag{4}$$"
   ]
  },
  {
   "cell_type": "code",
   "execution_count": 2,
   "metadata": {
    "scrolled": false
   },
   "outputs": [
    {
     "data": {
      "image/png": "[encoded data removed]",
      "text/plain": [
       "<Figure size 432x288 with 1 Axes>"
      ]
     },
     "metadata": {
      "needs_background": "light"
     },
     "output_type": "display_data"
    },
    {
     "name": "stdout",
     "output_type": "stream",
     "text": [
      "   𝛼 = 2.280154541546002278 ± 0.084283318403400059\n",
      "   𝛽 = -0.055192404621545975 ± 0.041476585078953097\n",
      "   𝜏 = 1.961290768380596017 ± 0.168626979398374122\n"
     ]
    }
   ],
   "source": [
    "from scipy.optimize import curve_fit\n",
    "\n",
    "def f(m, α, β, τ):\n",
    "    return α*np.exp(-m/τ) + β\n",
    "\n",
    "plt.plot(m, A_arr, '--', label=r'$A(m)$')\n",
    "\n",
    "popt, pcov = curve_fit(f, m, A_arr)\n",
    "plt.plot(m, f(m, *popt), '-', label=r'fit: $\\alpha=%5.3f,\\, \\beta=%5.3f,\\, \\tau=%5.3f$' % tuple(popt))\n",
    "\n",
    "\n",
    "plt.ylabel(\"$f\\,(m),\\: A(m)$\", fontsize=25)\n",
    "plt.xlabel(\"$m$\", fontsize=25)\n",
    "plt.legend()\n",
    "plt.show()\n",
    "\n",
    "\n",
    "print('   𝛼 =', '%0.18f' % popt[0], '±', \"%.18f\" % pcov[0,0]**0.5) #2ND HALF IS FIT UNCERTAINTY\n",
    "print('   𝛽 =', \"%0.18f\" % popt[1], '±', \"%.18f\" % pcov[1,1]**0.5)\n",
    "print('   𝜏 =', \"%0.18f\" % popt[2], '±', \"%.18f\" % pcov[2,2]**0.5)"
   ]
  },
  {
   "cell_type": "markdown",
   "metadata": {},
   "source": [
    "$$\n",
    "\\begin{align*}\n",
    "    A(m) \\,&\\backsimeq\\, f(m)   \\tag{5} \\\\\n",
    "    &\\backsimeq\\, 2.280\\exp({-m\\,/1.961}) - 0.055  \\tag{6}\n",
    "\\end{align*}\n",
    "$$\n",
    "\n",
    "Now that $A$ has been approximated to the exponential decay function $(4)$, $f(m)$ can be substited into Equation $(3)$;\n",
    "\n",
    "$$\n",
    "\\begin{align*}\n",
    "    m \\,\\backsimeq\\, 1 - \\frac{6m}{\\pi^2}\\left(10\\sqrt{10^2 + m^2} - m^2\\ln{\\frac{10 + \\sqrt{10^2 + m^2}}{m}}\\right) + \\frac{27.36m}{\\pi^2}e^{-m\\,/1.961} - \\frac{0.66m}{\\pi^2}  \\tag{7}\n",
    "\\end{align*}\n",
    "$$\n",
    "\n",
    "and so Equation $(7)$ can now be numerically solved with ease."
   ]
  },
  {
   "cell_type": "code",
   "execution_count": 3,
   "metadata": {},
   "outputs": [
    {
     "name": "stdout",
     "output_type": "stream",
     "text": [
      "𝑚 = 0.016917581734790365\n"
     ]
    }
   ],
   "source": [
    "from scipy.optimize import fsolve\n",
    "\n",
    "def g(m):\n",
    "    return 1 - 6*m/np.pi**2 * (10*np.sqrt(10**2 + m**2) - m**2*np.log((10+np.sqrt(10**2 + m**20))/m)) + \\\n",
    "           ((27.36*m)/np.pi**2)*np.exp(-m/1.961) - ((0.66*m)/np.pi**2) - m\n",
    "\n",
    "print(f\"𝑚 = {fsolve(g, 0.01)[0]}\")"
   ]
  },
  {
   "cell_type": "markdown",
   "metadata": {},
   "source": [
    "Checking to see if $m = 0.016917581734790365$ is a correct root by substituting it back into Equation $(1)$:"
   ]
  },
  {
   "cell_type": "code",
   "execution_count": 4,
   "metadata": {},
   "outputs": [
    {
     "data": {
      "text/plain": [
       "-0.0012914733890761788"
      ]
     },
     "execution_count": 4,
     "metadata": {},
     "output_type": "execute_result"
    }
   ],
   "source": [
    "m = 0.016917581734790365     # I(p,0.016917581734790365) = 2.142628587260748\n",
    "\n",
    "1 - ((6*m)/np.pi**2)*(10*np.sqrt(10**2 + m**2) - m**2*np.log((10 + np.sqrt(10**2 + m**2))/m)) + ((12*m)/np.pi**2)*2.142628587260748 - m"
   ]
  },
  {
   "cell_type": "markdown",
   "metadata": {},
   "source": [
    "Very close to zero, even when only $12$ data points have been used for the curve fit and the uncertainty analysis has not been taken into consideration. $m = 0.016917581734790365$ *is* a correct root."
   ]
  }
 ],
 "metadata": {
  "kernelspec": {
   "display_name": "Python 3",
   "language": "python",
   "name": "python3"
  },
  "language_info": {
   "codemirror_mode": {
    "name": "ipython",
    "version": 3
   },
   "file_extension": ".py",
   "mimetype": "text/x-python",
   "name": "python",
   "nbconvert_exporter": "python",
   "pygments_lexer": "ipython3",
   "version": "3.8.10"
  }
 },
 "nbformat": 4,
 "nbformat_minor": 4
}
